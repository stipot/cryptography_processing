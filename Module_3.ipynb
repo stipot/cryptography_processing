{
 "cells": [
  {
   "cell_type": "markdown",
   "metadata": {},
   "source": [
    "# Применение современных криптографических средств"
   ]
  },
  {
   "cell_type": "markdown",
   "metadata": {},
   "source": [
    "## Модуль 3. \"Шифрование\""
   ]
  },
  {
   "cell_type": "markdown",
   "metadata": {},
   "source": [
    "### Реализуем шифр Цезаря, сдвигая буквы на указанное количество позиций."
   ]
  },
  {
   "cell_type": "code",
   "execution_count": 17,
   "metadata": {},
   "outputs": [
    {
     "name": "stdout",
     "output_type": "stream",
     "text": [
      "Зашифрованный текст: Khoor, Zruog!\n"
     ]
    }
   ],
   "source": [
    "# Шифрация\n",
    "def caesar_cipher(text, shift):\n",
    "    result = \"\"\n",
    "    for char in text:\n",
    "        if char.isalpha():\n",
    "            # Сдвиг для заглавных букв\n",
    "            start = ord(\"A\") if char.isupper() else ord(\"a\")\n",
    "            result += chr((ord(char) - start + shift) % 26 + start)\n",
    "        else:\n",
    "            result += char\n",
    "    return result\n",
    "\n",
    "\n",
    "# Пример использования\n",
    "original_text = \"Применение современных криптографических средств.\"\n",
    "original_text = \"Hello, World!\"\n",
    "shift_value = 3\n",
    "encrypted_text = caesar_cipher(original_text, shift_value)\n",
    "print(f\"Зашифрованный текст: {encrypted_text}\")"
   ]
  },
  {
   "cell_type": "code",
   "execution_count": 18,
   "metadata": {},
   "outputs": [
    {
     "name": "stdout",
     "output_type": "stream",
     "text": [
      "Расшифрованный текст: Hello, World!\n"
     ]
    }
   ],
   "source": [
    "# Дешифрация\n",
    "def caesar_decipher(text, shift):\n",
    "    result = \"\"\n",
    "    for char in text:\n",
    "        if char.isalpha():\n",
    "            # Сдвиг для заглавных букв\n",
    "            start = ord(\"A\") if char.isupper() else ord(\"a\")\n",
    "            result += chr((ord(char) - start - shift) % 26 + start)\n",
    "        else:\n",
    "            result += char\n",
    "    return result\n",
    "\n",
    "\n",
    "# Пример использования\n",
    "shift_value = 3\n",
    "decrypted_text = caesar_decipher(encrypted_text, shift_value)\n",
    "print(f\"Расшифрованный текст: {decrypted_text}\")"
   ]
  },
  {
   "cell_type": "markdown",
   "metadata": {},
   "source": [
    "### Для кириллицы"
   ]
  },
  {
   "cell_type": "code",
   "execution_count": 2,
   "metadata": {},
   "outputs": [
    {
     "name": "stdout",
     "output_type": "stream",
     "text": [
      "Зашифрованный текст: Тулпирирли фсеуипиррюш нултхсжугчлъифнлш фуизфхе.\n"
     ]
    }
   ],
   "source": [
    "# Шифрация\n",
    "def caesar_cipher_cyrillic(text, shift):\n",
    "    result = \"\"\n",
    "    for char in text:\n",
    "        if \"А\" <= char <= \"Я\":\n",
    "            result += chr((ord(char) - ord(\"А\") + shift) % 32 + ord(\"А\"))\n",
    "        elif \"а\" <= char <= \"я\":\n",
    "            result += chr((ord(char) - ord(\"а\") + shift) % 32 + ord(\"а\"))\n",
    "        else:\n",
    "            result += char\n",
    "    return result\n",
    "\n",
    "\n",
    "# Пример использования\n",
    "original_text = \"Применение современных криптографических средств.\"\n",
    "shift_value = 3\n",
    "encrypted_text = caesar_cipher_cyrillic(original_text, shift_value)\n",
    "print(f\"Зашифрованный текст: {encrypted_text}\")"
   ]
  },
  {
   "cell_type": "code",
   "execution_count": 23,
   "metadata": {},
   "outputs": [
    {
     "name": "stdout",
     "output_type": "stream",
     "text": [
      "Расшифрованный текст: Применение современных криптографических средств.\n"
     ]
    }
   ],
   "source": [
    "# Дешифрация\n",
    "def caesar_decipher_cyrillic(text, shift):\n",
    "    result = \"\"\n",
    "    for char in text:\n",
    "        if \"А\" <= char <= \"Я\":\n",
    "            result += chr((ord(char) - ord(\"А\") - shift) % 32 + ord(\"А\"))\n",
    "        elif \"а\" <= char <= \"я\":\n",
    "            result += chr((ord(char) - ord(\"а\") - shift) % 32 + ord(\"а\"))\n",
    "        else:\n",
    "            result += char\n",
    "    return result\n",
    "\n",
    "\n",
    "# Пример использования\n",
    "shift_value = 3\n",
    "decrypted_text = caesar_decipher_cyrillic(encrypted_text, shift_value)\n",
    "print(f\"Расшифрованный текст: {decrypted_text}\")"
   ]
  },
  {
   "cell_type": "markdown",
   "metadata": {},
   "source": [
    "## Анализ и взлом упрощенной криптосистемы, например, с использованием частотного анализа шифра Цезаря"
   ]
  },
  {
   "cell_type": "code",
   "execution_count": 3,
   "metadata": {},
   "outputs": [
    {
     "name": "stdout",
     "output_type": "stream",
     "text": [
      "Частота букв в зашифрованном тексте:\n",
      "и: 7\n",
      "у: 5\n",
      "л: 5\n",
      "р: 4\n",
      "ф: 4\n",
      "п: 2\n",
      "с: 2\n",
      "е: 2\n",
      "ш: 2\n",
      "н: 2\n",
      "х: 2\n",
      "Т: 1\n",
      "ю: 1\n",
      "т: 1\n",
      "ж: 1\n",
      "г: 1\n",
      "ч: 1\n",
      "ъ: 1\n",
      "з: 1\n"
     ]
    }
   ],
   "source": [
    "from collections import Counter\n",
    "\n",
    "# encrypted_text = \"Тулпирирли фсеуипиррюш нултхсжугчлъифнлш фуизфхе.\"  # Зашифрованный текст\n",
    "\n",
    "\n",
    "def frequency_analysis(text):\n",
    "    # Убираем символы, кроме букв кириллицы\n",
    "    filtered_text = \"\".join(filter(lambda c: \"А\" <= c <= \"Я\" or \"а\" <= c <= \"я\", text))\n",
    "    # Подсчитываем частоту появления каждой буквы\n",
    "    frequency = Counter(filtered_text)\n",
    "    # Сортируем по частоте\n",
    "    sorted_frequency = frequency.most_common()\n",
    "    return sorted_frequency\n",
    "\n",
    "\n",
    "# Пример использования\n",
    "frequency_result = frequency_analysis(encrypted_text)\n",
    "\n",
    "print(\"Частота букв в зашифрованном тексте:\")\n",
    "for letter, count in frequency_result:\n",
    "    print(f\"{letter}: {count}\")"
   ]
  },
  {
   "cell_type": "markdown",
   "metadata": {},
   "source": [
    "# Код для расшифровки на основе частотного анализа"
   ]
  },
  {
   "cell_type": "code",
   "execution_count": 7,
   "metadata": {},
   "outputs": [
    {
     "name": "stdout",
     "output_type": "stream",
     "text": [
      "Лучший сдвиг: 3\n",
      "Расшифрованный текст: Применение современных криптографических средств.\n"
     ]
    }
   ],
   "source": [
    "from collections import Counter\n",
    "\n",
    "# Частоты букв в русском языке (примерные значения)\n",
    "RUSSIAN_FREQ = {\n",
    "    \"о\": 0.109,\n",
    "    \"е\": 0.085,\n",
    "    \"а\": 0.080,\n",
    "    \"и\": 0.075,\n",
    "    \"н\": 0.067,\n",
    "    \"т\": 0.062,\n",
    "    \"с\": 0.054,\n",
    "    \"р\": 0.047,\n",
    "    \"в\": 0.045,\n",
    "    \"л\": 0.043,\n",
    "    \"к\": 0.035,\n",
    "    \"м\": 0.033,\n",
    "    \"д\": 0.031,\n",
    "    \"п\": 0.029,\n",
    "    \"у\": 0.028,\n",
    "    \"я\": 0.027,\n",
    "    \"ы\": 0.026,\n",
    "    \"ь\": 0.025,\n",
    "    \"г\": 0.020,\n",
    "    \"з\": 0.020,\n",
    "    \"й\": 0.017,\n",
    "    \"х\": 0.016,\n",
    "    \"ц\": 0.013,\n",
    "    \"ч\": 0.013,\n",
    "    \"ш\": 0.010,\n",
    "    \"щ\": 0.005,\n",
    "    \"э\": 0.005,\n",
    "    \"ю\": 0.005,\n",
    "    \"ф\": 0.001,\n",
    "}\n",
    "\n",
    "\n",
    "def caesar_decipher_cyrillic(text, shift):\n",
    "    result = \"\"\n",
    "    for char in text:\n",
    "        if \"А\" <= char <= \"Я\":\n",
    "            result += chr((ord(char) - ord(\"А\") - shift) % 32 + ord(\"А\"))\n",
    "        elif \"а\" <= char <= \"я\":\n",
    "            result += chr((ord(char) - ord(\"а\") - shift) % 32 + ord(\"а\"))\n",
    "        else:\n",
    "            result += char\n",
    "    return result\n",
    "\n",
    "\n",
    "def frequency_analysis(text):\n",
    "    filtered_text = \"\".join(filter(lambda c: \"А\" <= c <= \"Я\" or \"а\" <= c <= \"я\", text))\n",
    "    frequency = Counter(filtered_text)\n",
    "    total_letters = sum(frequency.values())\n",
    "    # Возвращаем частоты в процентах\n",
    "    return {char: count / total_letters for char, count in frequency.items()}\n",
    "\n",
    "\n",
    "def score_text(text):\n",
    "    freq = frequency_analysis(text)\n",
    "    score = sum(freq.get(char, 0) * RUSSIAN_FREQ.get(char, 0) for char in freq)\n",
    "    return score\n",
    "\n",
    "\n",
    "def auto_decipher(encrypted_text):\n",
    "    best_score = float(\"-inf\")\n",
    "    best_shift = 0\n",
    "    best_decrypted = \"\"\n",
    "\n",
    "    for shift in range(32):  # 32 - количество букв в кириллице\n",
    "        decrypted_text = caesar_decipher_cyrillic(encrypted_text, shift)\n",
    "        score = score_text(decrypted_text)\n",
    "\n",
    "        if score > best_score:\n",
    "            best_score = score\n",
    "            best_shift = shift\n",
    "            best_decrypted = decrypted_text\n",
    "\n",
    "    return best_shift, best_decrypted\n",
    "\n",
    "\n",
    "# Пример использования\n",
    "# encrypted_text = \"Сулпснфкп тчрнвнчф кщсгяпнчкщм.\"  # Зашифрованный текст\n",
    "best_shift, decrypted_text = auto_decipher(encrypted_text)\n",
    "\n",
    "print(f\"Лучший сдвиг: {best_shift}\")\n",
    "print(f\"Расшифрованный текст: {decrypted_text}\")"
   ]
  },
  {
   "cell_type": "markdown",
   "metadata": {},
   "source": [
    "## Проектирование безопасной системы"
   ]
  },
  {
   "cell_type": "code",
   "execution_count": null,
   "metadata": {},
   "outputs": [],
   "source": [
    "!pip install pycryptodome"
   ]
  },
  {
   "cell_type": "code",
   "execution_count": 2,
   "metadata": {},
   "outputs": [
    {
     "name": "stdout",
     "output_type": "stream",
     "text": [
      "Зашифрованный текст: WZp3S5ISJTSrcTrqAcb0Teyxh8tuNFb9aSLdQXJ2GzfTjE+Y00D/ylH1/umr1ZLhmKpEv3OkEqzlj4UOCa7du1VXPZPt1gEdGrPYOUqwi0zSt4K6vcY=\n",
      "Расшифрованный текст: Пример текста для шифрования.\n"
     ]
    }
   ],
   "source": [
    "from Crypto.Cipher import AES\n",
    "from Crypto.Random import get_random_bytes\n",
    "import base64\n",
    "\n",
    "\n",
    "class SecureSystem:\n",
    "    def __init__(self):\n",
    "        self.key = self.generate_key()\n",
    "\n",
    "    def generate_key(self):\n",
    "        return get_random_bytes(16)  # 128-bit key\n",
    "\n",
    "    def encrypt(self, plaintext):\n",
    "        cipher = AES.new(self.key, AES.MODE_EAX)\n",
    "        ciphertext, tag = cipher.encrypt_and_digest(plaintext.encode())\n",
    "        # Кодируем в Base64 для удобства хранения\n",
    "        return base64.b64encode(cipher.nonce + tag + ciphertext).decode()\n",
    "\n",
    "    def decrypt(self, encoded):\n",
    "        raw_data = base64.b64decode(encoded)\n",
    "        nonce, tag, ciphertext = raw_data[:16], raw_data[16:32], raw_data[32:]\n",
    "        cipher = AES.new(self.key, AES.MODE_EAX, nonce=nonce)\n",
    "        plaintext = cipher.decrypt_and_verify(ciphertext, tag)\n",
    "        return plaintext.decode()\n",
    "\n",
    "\n",
    "# Пример использования\n",
    "secure_system = SecureSystem()\n",
    "\n",
    "# Шифрование\n",
    "plaintext = \"Пример текста для шифрования.\"\n",
    "ciphertext = secure_system.encrypt(plaintext)\n",
    "print(f\"Зашифрованный текст: {ciphertext}\")\n",
    "\n",
    "# Расшифровка\n",
    "decrypted_text = secure_system.decrypt(ciphertext)\n",
    "print(f\"Расшифрованный текст: {decrypted_text}\")"
   ]
  },
  {
   "cell_type": "markdown",
   "metadata": {},
   "source": [
    "# Обзор инструментов и библиотек"
   ]
  },
  {
   "cell_type": "code",
   "execution_count": 6,
   "metadata": {},
   "outputs": [
    {
     "name": "stdout",
     "output_type": "stream",
     "text": [
      "Зашифрованный текст (RSA): GRny2/ciVU9J8gniX5VonxtyDl0os4bxNwurTWxEY61b/PxSuNdbdPiascISzGo5bATwP+Qgv7w/18rn4AZ7TXXaLBYRIDGpQEp96plfUzf6e2xPu5oIE9l7UzbPbbBZrYirOIph/1jMPWV2qxStJm9XXzAIDXgDsIkpp5+jBtok+f3Xt/DBJaUgyNXRmLZ1tJLEy1uK9E5BQ8/tMIorcoMot9VVMVS4ROhrWAe65fcYFooBRUE41FmqWc2p+tv8xCdz1GYQspwTQVLIZo5ewsYJbOeCfSSRDP4lUQE0zknWysnCd+MJv4yY9x1LcZzWkRq5rSumfD521c8bZ2/OBg==\n",
      "Расшифрованный текст (RSA): Защищенное сообщение.\n",
      "Зашифрованный текст (AES): Yd2E9vqKU7VR6+5aOJoKwk0fyGJ9L/1q1nWX23gBXh0nGgrz6eD41phUYyh5C3mBwpJ6A0ccyjdJRolj0Dd0LiYUqQmd7Ye6\n",
      "Расшифрованный текст (AES): Защищенное сообщение.\n"
     ]
    }
   ],
   "source": [
    "import random\n",
    "import time\n",
    "import base64\n",
    "from Crypto.Cipher import AES, PKCS1_OAEP\n",
    "from Crypto.PublicKey import RSA\n",
    "from Crypto.Random import get_random_bytes\n",
    "\n",
    "\n",
    "class Tracker:\n",
    "    def __init__(self):\n",
    "        self.position = (0, 0)\n",
    "\n",
    "    def update_position(self):\n",
    "        self.position = (self.position[0] + random.randint(-1, 1), self.position[1] + random.randint(-1, 1))\n",
    "\n",
    "    def get_position(self):\n",
    "        return self.position\n",
    "\n",
    "\n",
    "class CryptoTools:\n",
    "    def generate_keypair(self):\n",
    "        key = RSA.generate(2048)\n",
    "        private_key = key.export_key()\n",
    "        public_key = key.publickey().export_key()\n",
    "        return private_key, public_key\n",
    "\n",
    "    def rsa_encrypt(self, public_key, message):\n",
    "        rsa_key = RSA.import_key(public_key)\n",
    "        cipher = PKCS1_OAEP.new(rsa_key)\n",
    "        ciphertext = cipher.encrypt(message.encode())\n",
    "        return base64.b64encode(ciphertext).decode()\n",
    "\n",
    "    def rsa_decrypt(self, private_key, ciphertext):\n",
    "        rsa_key = RSA.import_key(private_key)\n",
    "        cipher = PKCS1_OAEP.new(rsa_key)\n",
    "        decoded_data = base64.b64decode(ciphertext)\n",
    "        return cipher.decrypt(decoded_data).decode()\n",
    "\n",
    "    def aes_encrypt(self, key, message):\n",
    "        cipher = AES.new(key, AES.MODE_EAX)\n",
    "        ciphertext, tag = cipher.encrypt_and_digest(message.encode())\n",
    "        return base64.b64encode(cipher.nonce + tag + ciphertext).decode()\n",
    "\n",
    "    def aes_decrypt(self, key, ciphertext):\n",
    "        data = base64.b64decode(ciphertext)\n",
    "        nonce, tag, ciphertext = data[:16], data[16:32], data[32:]\n",
    "        cipher = AES.new(key, AES.MODE_EAX, nonce=nonce)\n",
    "        return cipher.decrypt_and_verify(ciphertext, tag).decode()\n",
    "\n",
    "\n",
    "# Пример использования\n",
    "tracker = Tracker()\n",
    "\n",
    "# Генерация ключей\n",
    "crypto_tools = CryptoTools()\n",
    "private_key, public_key = crypto_tools.generate_keypair()\n",
    "\n",
    "# Шифрование сообщения с использованием RSA\n",
    "message = \"Защищенное сообщение.\"\n",
    "ciphertext_rsa = crypto_tools.rsa_encrypt(public_key, message)\n",
    "print(f\"Зашифрованный текст (RSA): {ciphertext_rsa}\")\n",
    "\n",
    "# Расшифровка сообщения\n",
    "decrypted_message_rsa = crypto_tools.rsa_decrypt(private_key, ciphertext_rsa)\n",
    "print(f\"Расшифрованный текст (RSA): {decrypted_message_rsa}\")\n",
    "\n",
    "# Шифрование сообщения с использованием AES\n",
    "aes_key = get_random_bytes(16)  # Генерация симметричного ключа\n",
    "ciphertext_aes = crypto_tools.aes_encrypt(aes_key, message)\n",
    "print(f\"Зашифрованный текст (AES): {ciphertext_aes}\")\n",
    "\n",
    "# Расшифровка сообщения\n",
    "decrypted_message_aes = crypto_tools.aes_decrypt(aes_key, ciphertext_aes)\n",
    "print(f\"Расшифрованный текст (AES): {decrypted_message_aes}\")"
   ]
  }
 ],
 "metadata": {
  "kernelspec": {
   "display_name": ".venv",
   "language": "python",
   "name": "python3"
  },
  "language_info": {
   "codemirror_mode": {
    "name": "ipython",
    "version": 3
   },
   "file_extension": ".py",
   "mimetype": "text/x-python",
   "name": "python",
   "nbconvert_exporter": "python",
   "pygments_lexer": "ipython3",
   "version": "3.10.11"
  }
 },
 "nbformat": 4,
 "nbformat_minor": 2
}
